{
 "cells": [
  {
   "cell_type": "code",
   "execution_count": 5,
   "id": "78fb8675-52ee-4618-918f-1b543cf15e28",
   "metadata": {},
   "outputs": [
    {
     "ename": "ModuleNotFoundError",
     "evalue": "No module named 'segment_anything'",
     "output_type": "error",
     "traceback": [
      "\u001b[0;31m---------------------------------------------------------------------------\u001b[0m",
      "\u001b[0;31mModuleNotFoundError\u001b[0m                       Traceback (most recent call last)",
      "Cell \u001b[0;32mIn[5], line 7\u001b[0m\n\u001b[1;32m      5\u001b[0m \u001b[38;5;28;01mimport\u001b[39;00m \u001b[38;5;21;01mcv2\u001b[39;00m\n\u001b[1;32m      6\u001b[0m \u001b[38;5;28;01mfrom\u001b[39;00m \u001b[38;5;21;01mdatasets\u001b[39;00m \u001b[38;5;28;01mimport\u001b[39;00m load_dataset, Image\n\u001b[0;32m----> 7\u001b[0m \u001b[38;5;28;01mfrom\u001b[39;00m \u001b[38;5;21;01msegment_anything\u001b[39;00m \u001b[38;5;28;01mimport\u001b[39;00m SamAutomaticMaskGenerator, sam_model_registry\n",
      "\u001b[0;31mModuleNotFoundError\u001b[0m: No module named 'segment_anything'"
     ]
    }
   ],
   "source": [
    "import matplotlib.pyplot as plt\n",
    "import matplotlib.image as mpimg\n",
    "import os\n",
    "import random as rand\n",
    "import cv2\n",
    "from datasets import load_dataset, Image\n",
    "from segment_anything import SamAutomaticMaskGenerator, sam_model_registry"
   ]
  },
  {
   "cell_type": "code",
   "execution_count": 4,
   "id": "a77bf01e-cdc8-4f6a-87a0-b655364ed3de",
   "metadata": {},
   "outputs": [
    {
     "ename": "SyntaxError",
     "evalue": "invalid syntax (1630910726.py, line 4)",
     "output_type": "error",
     "traceback": [
      "\u001b[0;36m  Cell \u001b[0;32mIn[4], line 4\u001b[0;36m\u001b[0m\n\u001b[0;31m    masks = mask_generator.generate(<your_image>)\u001b[0m\n\u001b[0m                                    ^\u001b[0m\n\u001b[0;31mSyntaxError\u001b[0m\u001b[0;31m:\u001b[0m invalid syntax\n"
     ]
    }
   ],
   "source": [
    "sam = sam_model_registry[\"<model_type>\"](checkpoint=\"<path/to/checkpoint>\")\n",
    "mask_generator = SamAutomaticMaskGenerator(sam)\n",
    "masks = mask_generator.generate(<your_image>)\n"
   ]
  },
  {
   "cell_type": "code",
   "execution_count": null,
   "id": "02702dc2-3a98-408a-81d6-07f7ce00ef13",
   "metadata": {},
   "outputs": [],
   "source": [
    "dir_img = os.listdir('../data/img')\n",
    "dir_segm = os.listdir('../data/segmentations')"
   ]
  },
  {
   "cell_type": "code",
   "execution_count": null,
   "id": "2f6bea97-4364-44f1-a0d3-62c08c237479",
   "metadata": {},
   "outputs": [],
   "source": [
    "print(dir_img[0])\n",
    "print(dir_segm[0])"
   ]
  },
  {
   "cell_type": "code",
   "execution_count": null,
   "id": "07080285-ac05-4505-868e-05730f2e7da5",
   "metadata": {},
   "outputs": [],
   "source": []
  }
 ],
 "metadata": {
  "kernelspec": {
   "display_name": "Python 3 (ipykernel)",
   "language": "python",
   "name": "python3"
  },
  "language_info": {
   "codemirror_mode": {
    "name": "ipython",
    "version": 3
   },
   "file_extension": ".py",
   "mimetype": "text/x-python",
   "name": "python",
   "nbconvert_exporter": "python",
   "pygments_lexer": "ipython3",
   "version": "3.10.13"
  }
 },
 "nbformat": 4,
 "nbformat_minor": 5
}
